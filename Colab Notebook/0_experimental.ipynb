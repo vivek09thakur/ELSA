{
  "cells": [
    {
      "cell_type": "markdown",
      "metadata": {
        "id": "view-in-github",
        "colab_type": "text"
      },
      "source": [
        "<a href=\"https://colab.research.google.com/github/vivek09thakur/ELSA/blob/main/Colab%20Notebook/Enhance_Lang_Seq_Agent.ipynb\" target=\"_parent\"><img src=\"https://colab.research.google.com/assets/colab-badge.svg\" alt=\"Open In Colab\"/></a>"
      ]
    },
    {
      "cell_type": "code",
      "execution_count": 1,
      "metadata": {
        "colab": {
          "base_uri": "https://localhost:8080/"
        },
        "id": "nnT9KLfahysK",
        "outputId": "b7aa6129-2226-4324-c6f0-cf238b0af32f"
      },
      "outputs": [
        {
          "output_type": "stream",
          "name": "stdout",
          "text": [
            "Drive already mounted at /content/drive; to attempt to forcibly remount, call drive.mount(\"/content/drive\", force_remount=True).\n"
          ]
        }
      ],
      "source": [
        "from google.colab import drive\n",
        "drive.mount('/content/drive')"
      ]
    },
    {
      "cell_type": "code",
      "execution_count": 2,
      "metadata": {
        "id": "8z8w-y8BhEmm"
      },
      "outputs": [],
      "source": [
        "from torch.utils.data import Dataset\n",
        "import json\n",
        "\n",
        "class TextData(Dataset):\n",
        "\n",
        "    def __init__(self,path:str,tokenizer,print_data=False):\n",
        "        self.data = json.load(open(path,'r'))\n",
        "        self.X = []\n",
        "\n",
        "        for i in self.data:\n",
        "            for j in i['dialog']:\n",
        "                self.X.append(j['text'])\n",
        "\n",
        "        for idx,i in enumerate(self.X):\n",
        "            try:\n",
        "                self.X[idx] = \"<sos>\" + i + \"<model>\" + self.X[idx+1] + \"<eos>\"\n",
        "            except:\n",
        "                break\n",
        "\n",
        "        self.X = self.X[:5000]\n",
        "        if print_data==True:\n",
        "            print(self.X[0])\n",
        "\n",
        "        self.X_encoded = tokenizer(self.X,max_length=50,padding=True,truncation=True,return_tensors='pt')\n",
        "        self.input_ids = self.X_encoded['input_ids']\n",
        "        self.attention_mask = self.X_encoded['attention_mask']\n",
        "\n",
        "    def __len__(self):\n",
        "        return len(self.X)\n",
        "\n",
        "    def __getitem__(self,idx):\n",
        "        return self.input_ids[idx],self.attention_mask[idx]"
      ]
    },
    {
      "cell_type": "code",
      "execution_count": 5,
      "metadata": {
        "id": "0P-tCkR0hEmn"
      },
      "outputs": [],
      "source": [
        "import tqdm\n",
        "import torch\n",
        "\n",
        "class GPT2FineTuner:\n",
        "\n",
        "    def __init__(self,device,optim):\n",
        "        self.device = device\n",
        "        self.optim = optim\n",
        "        pass\n",
        "\n",
        "    def train(self,textData,model,epoch,save_model=False,save_path=None):\n",
        "        for i in tqdm.tqdm(range(epoch)):\n",
        "            for X,a in textData:\n",
        "                X = X.to(self.device)\n",
        "                a = a.to(self.device)\n",
        "                self.optim = optim.zero_grad()\n",
        "                loss = model(X,attention_mask=a,labels=X).loss\n",
        "                loss.backward()\n",
        "                optim.step()\n",
        "\n",
        "                if save_model==True:\n",
        "                    if save_path==None:\n",
        "                        raise Exception(\"Please provide a save path\")\n",
        "                    else:\n",
        "                        torch.save(model.state_dict(),save_path)\n",
        "\n",
        "\n",
        "    def predict(self,text):\n",
        "        user_input = \"<sos>\" + text + \"<model>\"\n",
        "        user_input_encoded = self.tokenizer(user_input,return_tensors='pt')\n",
        "        X,a = user_input_encoded['input_ids'].to(self.device),user_input_encoded['attention_mask'].to(self.device)\n",
        "        completion = self.model.generate(X,attention_mask=a,max_length=50)\n",
        "        return self.tokenizer.decode(completion[0])"
      ]
    },
    {
      "cell_type": "markdown",
      "metadata": {
        "id": "4Q-16GTBhEmo"
      },
      "source": [
        "**main run**"
      ]
    },
    {
      "cell_type": "code",
      "execution_count": null,
      "metadata": {
        "colab": {
          "base_uri": "https://localhost:8080/"
        },
        "id": "MaR8pcwzhEmp",
        "outputId": "1c4d8a79-e605-4a32-d323-f68a331ddb61"
      },
      "outputs": [
        {
          "output_type": "stream",
          "name": "stderr",
          "text": [
            "\r  0%|          | 0/25 [00:00<?, ?it/s]"
          ]
        }
      ],
      "source": [
        "from transformers import GPT2Tokenizer,GPT2LMHeadModel\n",
        "from torch.utils.data import DataLoader\n",
        "from torch.optim import Adam\n",
        "\n",
        "device = \"cuda\" if torch.cuda.is_available() else \"cpu\"\n",
        "\n",
        "tokenizer = GPT2Tokenizer.from_pretrained('gpt2')\n",
        "tokenizer.add_special_tokens({'pad_token':'<pad>','bos_token':'<sos>','eos_token':'<eos>'})\n",
        "tokenizer.add_tokens(['<model>'])\n",
        "\n",
        "model = GPT2LMHeadModel.from_pretrained('gpt2')\n",
        "model.resize_token_embeddings(len(tokenizer))\n",
        "model.to(device)\n",
        "\n",
        "textdata = TextData('/content/data.json',tokenizer,print_data=False)\n",
        "textDataLoader = DataLoader(textdata, batch_size=64)\n",
        "\n",
        "optim = Adam(model.parameters(), lr=1e-3)\n",
        "tuned_model = GPT2FineTuner(device=device,optim=optim)\n",
        "tuned_model.train(textData=textdata, model=model, epoch=25, save_model=True, save_path='saved_model.pt')\n",
        "\n",
        "while True:\n",
        "    text = input(\"<user> \")\n",
        "    completion = tuned_model.predict(text)\n",
        "    print(\"<model> \" + completion)"
      ]
    }
  ],
  "metadata": {
    "accelerator": "GPU",
    "colab": {
      "gpuType": "T4",
      "provenance": [],
      "include_colab_link": true
    },
    "kernelspec": {
      "display_name": "Python 3",
      "name": "python3"
    },
    "language_info": {
      "name": "python"
    }
  },
  "nbformat": 4,
  "nbformat_minor": 0
}
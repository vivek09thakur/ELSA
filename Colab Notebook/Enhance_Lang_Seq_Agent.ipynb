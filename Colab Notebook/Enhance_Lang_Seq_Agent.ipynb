{
  "cells": [
    {
      "cell_type": "markdown",
      "metadata": {
        "colab_type": "text",
        "id": "view-in-github"
      },
      "source": [
        "<a href=\"https://colab.research.google.com/github/vivek09thakur/ELSA/blob/main/Colab%20Notebook/Enhance_Lang_Seq_Agent.ipynb\" target=\"_parent\"><img src=\"https://colab.research.google.com/assets/colab-badge.svg\" alt=\"Open In Colab\"/></a>"
      ]
    },
    {
      "cell_type": "code",
      "execution_count": 1,
      "metadata": {
        "id": "8z8w-y8BhEmm"
      },
      "outputs": [],
      "source": [
        "from torch.utils.data import Dataset\n",
        "import json\n",
        "\n",
        "class TextData(Dataset):\n",
        "\n",
        "    def __init__(self,path:str,tokenizer,print_data=False):\n",
        "        self.data = json.load(open(path,'r'))\n",
        "        self.X = []\n",
        "\n",
        "        for i in self.data:\n",
        "            for j in i['dailog']:\n",
        "                self.X.append(j['text'])\n",
        "\n",
        "        for idx,i in enumerate(self.X):\n",
        "            try:\n",
        "                self.X[idx] = \"<sos>\" + i + \"<model>\" + self.X[idx+1] + \"<eos>\"\n",
        "            except:\n",
        "                break\n",
        "\n",
        "        self.X = self.X[:5000]\n",
        "        if print_data==True:\n",
        "            print(self.X[0])\n",
        "\n",
        "        self.X_encoded = tokenizer(self.X,max_length=50,padding=True,truncation=True,return_tensors='pt')\n",
        "        self.input_ids = self.X_encoded['input_ids']\n",
        "        self.attention_mask = self.X_encoded['attention_mask']\n",
        "\n",
        "    def __len__(self):\n",
        "        return len(self.X)\n",
        "\n",
        "    def __getitem__(self,idx):\n",
        "        return self.input_ids[idx],self.attention_mask[idx]"
      ]
    },
    {
      "cell_type": "code",
      "execution_count": 2,
      "metadata": {
        "id": "0P-tCkR0hEmn"
      },
      "outputs": [],
      "source": [
        "import tqdm\n",
        "import torch\n",
        "\n",
        "class GPT2FineTuner:\n",
        "\n",
        "    def __init__(self):\n",
        "        pass\n",
        "\n",
        "    def train(self,textData,model,epoch,save_model=False,save_path=None):\n",
        "        for i in tqdm.tqdm(range(epoch)):\n",
        "            for X,a in textData:\n",
        "                X = X.to(self.device)\n",
        "                a = a.to(self.device)\n",
        "                optim = optim.zero_grad()\n",
        "                loss = model(X,attention_mask=a,labels=X).loss\n",
        "                loss.backward()\n",
        "                optim.step()\n",
        "\n",
        "                if save_model==True:\n",
        "                    if save_path==None:\n",
        "                        raise Exception(\"Please provide a save path\")\n",
        "                    else:\n",
        "                        torch.save(model.state_dict(),save_path)\n",
        "\n",
        "\n",
        "    def predict(self,text):\n",
        "        user_input = \"<sos>\" + text + \"<model>\"\n",
        "        user_input_encoded = self.tokenizer(user_input,return_tensors='pt')\n",
        "        X,a = user_input_encoded['input_ids'].to(self.device),user_input_encoded['attention_mask'].to(self.device)\n",
        "        completion = self.model.generate(X,attention_mask=a,max_length=50)\n",
        "        return self.tokenizer.decode(completion[0])"
      ]
    },
    {
      "cell_type": "code",
      "execution_count": 3,
      "metadata": {
        "colab": {
          "base_uri": "https://localhost:8080/"
        },
        "id": "nnT9KLfahysK",
        "outputId": "2f9b01f3-a17b-4fa9-d45c-71f4a574b530"
      },
      "outputs": [
        {
          "name": "stdout",
          "output_type": "stream",
          "text": [
            "Mounted at /content/drive\n"
          ]
        }
      ],
      "source": [
        "from google.colab import drive\n",
        "drive.mount('/content/drive')"
      ]
    },
    {
      "cell_type": "markdown",
      "metadata": {
        "id": "4Q-16GTBhEmo"
      },
      "source": [
        "**main run**"
      ]
    },
    {
      "cell_type": "code",
      "execution_count": 12,
      "metadata": {
        "colab": {
          "base_uri": "https://localhost:8080/",
          "height": 366
        },
        "id": "MaR8pcwzhEmp",
        "outputId": "5bb143fb-782d-4db3-93c8-0546b40848b2"
      },
      "outputs": [
        {
          "ename": "KeyError",
          "evalue": "ignored",
          "output_type": "error",
          "traceback": [
            "\u001b[0;31m---------------------------------------------------------------------------\u001b[0m",
            "\u001b[0;31mKeyError\u001b[0m                                  Traceback (most recent call last)",
            "\u001b[0;32m<ipython-input-12-494b36849537>\u001b[0m in \u001b[0;36m<cell line: 15>\u001b[0;34m()\u001b[0m\n\u001b[1;32m     13\u001b[0m \u001b[0mmodel\u001b[0m\u001b[0;34m.\u001b[0m\u001b[0mto\u001b[0m\u001b[0;34m(\u001b[0m\u001b[0mdevice\u001b[0m\u001b[0;34m)\u001b[0m\u001b[0;34m\u001b[0m\u001b[0;34m\u001b[0m\u001b[0m\n\u001b[1;32m     14\u001b[0m \u001b[0;34m\u001b[0m\u001b[0m\n\u001b[0;32m---> 15\u001b[0;31m \u001b[0mtextdata\u001b[0m \u001b[0;34m=\u001b[0m \u001b[0mTextData\u001b[0m\u001b[0;34m(\u001b[0m\u001b[0;34m'/content/data.json'\u001b[0m\u001b[0;34m,\u001b[0m\u001b[0mtokenizer\u001b[0m\u001b[0;34m,\u001b[0m\u001b[0mprint_data\u001b[0m\u001b[0;34m=\u001b[0m\u001b[0;32mFalse\u001b[0m\u001b[0;34m)\u001b[0m\u001b[0;34m\u001b[0m\u001b[0;34m\u001b[0m\u001b[0m\n\u001b[0m\u001b[1;32m     16\u001b[0m \u001b[0mtextDataLoader\u001b[0m \u001b[0;34m=\u001b[0m \u001b[0mDataLoader\u001b[0m\u001b[0;34m(\u001b[0m\u001b[0mtextdata\u001b[0m\u001b[0;34m,\u001b[0m\u001b[0mbatch_size\u001b[0m\u001b[0;34m=\u001b[0m\u001b[0;36m64\u001b[0m\u001b[0;34m)\u001b[0m\u001b[0;34m\u001b[0m\u001b[0;34m\u001b[0m\u001b[0m\n\u001b[1;32m     17\u001b[0m \u001b[0;34m\u001b[0m\u001b[0m\n",
            "\u001b[0;32m<ipython-input-1-a25818fbcade>\u001b[0m in \u001b[0;36m__init__\u001b[0;34m(self, path, tokenizer, print_data)\u001b[0m\n\u001b[1;32m      9\u001b[0m \u001b[0;34m\u001b[0m\u001b[0m\n\u001b[1;32m     10\u001b[0m         \u001b[0;32mfor\u001b[0m \u001b[0mi\u001b[0m \u001b[0;32min\u001b[0m \u001b[0mself\u001b[0m\u001b[0;34m.\u001b[0m\u001b[0mdata\u001b[0m\u001b[0;34m:\u001b[0m\u001b[0;34m\u001b[0m\u001b[0;34m\u001b[0m\u001b[0m\n\u001b[0;32m---> 11\u001b[0;31m             \u001b[0;32mfor\u001b[0m \u001b[0mj\u001b[0m \u001b[0;32min\u001b[0m \u001b[0mi\u001b[0m\u001b[0;34m[\u001b[0m\u001b[0;34m'dailog'\u001b[0m\u001b[0;34m]\u001b[0m\u001b[0;34m:\u001b[0m\u001b[0;34m\u001b[0m\u001b[0;34m\u001b[0m\u001b[0m\n\u001b[0m\u001b[1;32m     12\u001b[0m                 \u001b[0mself\u001b[0m\u001b[0;34m.\u001b[0m\u001b[0mX\u001b[0m\u001b[0;34m.\u001b[0m\u001b[0mappend\u001b[0m\u001b[0;34m(\u001b[0m\u001b[0mj\u001b[0m\u001b[0;34m[\u001b[0m\u001b[0;34m'text'\u001b[0m\u001b[0;34m]\u001b[0m\u001b[0;34m)\u001b[0m\u001b[0;34m\u001b[0m\u001b[0;34m\u001b[0m\u001b[0m\n\u001b[1;32m     13\u001b[0m \u001b[0;34m\u001b[0m\u001b[0m\n",
            "\u001b[0;31mKeyError\u001b[0m: 'dailog'"
          ]
        }
      ],
      "source": [
        "from transformers import GPT2Tokenizer,GPT2LMHeadModel\n",
        "from torch.utils.data import DataLoader\n",
        "from torch.optim import Adam\n",
        "\n",
        "device = \"cuda\" if torch.cuda.is_available() else \"cpu\"\n",
        "\n",
        "tokenizer = GPT2Tokenizer.from_pretrained('gpt2')\n",
        "tokenizer.add_special_tokens({'pad_token':'<pad>','bos_token':'<sos>','eos_token':'<eos>'})\n",
        "tokenizer.add_tokens(['<model>'])\n",
        "\n",
        "model = GPT2LMHeadModel.from_pretrained('gpt2')\n",
        "model.resize_token_embeddings(len(tokenizer))\n",
        "model.to(device)\n",
        "\n",
        "textdata = TextData('/content/data.json',tokenizer,print_data=False)\n",
        "textDataLoader = DataLoader(textdata, batch_size=64, ignore_index=True)\n",
        "\n",
        "tuned_model = GPT2FineTuner()\n",
        "optim = Adam(model.parameters(), lr=1e-3)\n",
        "tuned_model.train(textData=textdata, model=model, epoch=100, save_model=True, save_path='saved_model.pt')\n",
        "\n",
        "while True:\n",
        "    text = input(\"<user> \")\n",
        "    completion = tuned_model.predict(text)\n",
        "    print(\"<model> \" + completion)"
      ]
    }
  ],
  "metadata": {
    "accelerator": "GPU",
    "colab": {
      "gpuType": "T4",
      "include_colab_link": true,
      "provenance": []
    },
    "kernelspec": {
      "display_name": "Python 3",
      "name": "python3"
    },
    "language_info": {
      "name": "python"
    }
  },
  "nbformat": 4,
  "nbformat_minor": 0
}

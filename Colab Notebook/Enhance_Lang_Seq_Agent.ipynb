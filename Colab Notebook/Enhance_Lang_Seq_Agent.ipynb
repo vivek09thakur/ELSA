{
 "cells": [
  {
   "cell_type": "code",
   "execution_count": null,
   "metadata": {},
   "outputs": [],
   "source": [
    "from torch.utils.data import Dataset\n",
    "import json\n",
    "\n",
    "class TextData(Dataset):\n",
    "    \n",
    "    def __init__(self,path:str,tokenizer,print_data=False):\n",
    "        self.data = json.load(open(path,'r')) \n",
    "        self.X = []\n",
    "        \n",
    "        for i in self.data:\n",
    "            for j in i['dailog']:\n",
    "                self.X.append(j['text'])\n",
    "                \n",
    "        for idx,i in enumerate(self.X):\n",
    "            try:\n",
    "                self.X[idx] = \"<sos>\" + i + \"<model>\" + self.X[idx+1] + \"<eos>\"\n",
    "            except:\n",
    "                break\n",
    "        \n",
    "        self.X = self.X[:5000]\n",
    "        if print_data==True:\n",
    "            print(self.X[0])\n",
    "            \n",
    "        self.X_encoded = tokenizer(self.X,max_length=50,padding=True,truncation=True,return_tensors='pt')\n",
    "        self.input_ids = self.X_encoded['input_ids']\n",
    "        self.attention_mask = self.X_encoded['attention_mask']\n",
    "        \n",
    "    def __len__(self):\n",
    "        return len(self.X)\n",
    "    \n",
    "    def __getitem__(self,idx):\n",
    "        return self.input_ids[idx],self.attention_mask[idx]"
   ]
  }
 ],
 "metadata": {
  "language_info": {
   "name": "python"
  }
 },
 "nbformat": 4,
 "nbformat_minor": 2
}
